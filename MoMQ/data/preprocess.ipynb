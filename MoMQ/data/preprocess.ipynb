{
 "cells": [
  {
   "cell_type": "code",
   "execution_count": null,
   "metadata": {},
   "outputs": [],
   "source": [
    "import sys\n",
    "sys.append('../')\n",
    "from utils.common_utils import read_json\n"
   ]
  },
  {
   "cell_type": "code",
   "execution_count": null,
   "metadata": {},
   "outputs": [],
   "source": [
    "import os\n",
    "# 设置HTTP和HTTPS代理\n",
    "os.environ['http_proxy'] = 'http://127.0.0.1:7890'\n",
    "os.environ['https_proxy'] = 'http://127.0.0.1:7890'\n",
    "from transformers import AutoModelForCausalLM, AutoTokenizer\n",
    "from transformers import Qwen2ForCausalLM\n",
    "\n",
    "model_name = \"Qwen/Qwen2.5-0.5B-Instruct\"\n",
    "\n",
    "model = AutoModelForCausalLM.from_pretrained(\n",
    "    model_name,\n",
    "    torch_dtype=\"auto\",\n",
    "    device_map=\"auto\"\n",
    ")"
   ]
  },
  {
   "cell_type": "code",
   "execution_count": null,
   "metadata": {},
   "outputs": [],
   "source": [
    "#模型下载\n",
    "from modelscope import snapshot_download\n",
    "model_dir = snapshot_download('qwen/Qwen2.5-Coder-1.5B-Instruct')"
   ]
  },
  {
   "cell_type": "code",
   "execution_count": 1,
   "metadata": {},
   "outputs": [
    {
     "name": "stderr",
     "output_type": "stream",
     "text": [
      "/home/linzhisheng/miniconda3/envs/moe/lib/python3.10/site-packages/tqdm/auto.py:21: TqdmWarning: IProgress not found. Please update jupyter and ipywidgets. See https://ipywidgets.readthedocs.io/en/stable/user_install.html\n",
      "  from .autonotebook import tqdm as notebook_tqdm\n"
     ]
    }
   ],
   "source": [
    "from transformers import AutoModelForCausalLM, AutoTokenizer\n",
    "\n",
    "model_name = \"/home/linzhisheng/.cache/modelscope/hub/qwen/Qwen2___5-Coder-1___5B-Instruct\"\n",
    "\n",
    "model = AutoModelForCausalLM.from_pretrained(\n",
    "    model_name,\n",
    "    torch_dtype=\"auto\",\n",
    "    device_map=\"auto\"\n",
    ")\n",
    "tokenizer = AutoTokenizer.from_pretrained(model_name)\n",
    "\n",
    "prompt = \"write a quick sort algorithm.\"\n",
    "messages = [\n",
    "    {\"role\": \"system\", \"content\": \"You are Qwen, created by Alibaba Cloud. You are a helpful assistant.\"},\n",
    "    {\"role\": \"user\", \"content\": prompt}\n",
    "]\n",
    "text = tokenizer.apply_chat_template(\n",
    "    messages,\n",
    "    tokenize=False,\n",
    "    add_generation_prompt=True\n",
    ")\n",
    "model_inputs = tokenizer([text], return_tensors=\"pt\").to(model.device)\n",
    "\n",
    "generated_ids = model.generate(\n",
    "    **model_inputs,\n",
    "    max_new_tokens=512\n",
    ")\n",
    "generated_ids = [\n",
    "    output_ids[len(input_ids):] for input_ids, output_ids in zip(model_inputs.input_ids, generated_ids)\n",
    "]\n",
    "\n",
    "response = tokenizer.batch_decode(generated_ids, skip_special_tokens=True)[0]"
   ]
  },
  {
   "cell_type": "code",
   "execution_count": 4,
   "metadata": {},
   "outputs": [
    {
     "name": "stdout",
     "output_type": "stream",
     "text": [
      "torch.Size([12, 2, 24, 384])\n"
     ]
    },
    {
     "data": {
      "text/plain": [
       "torch.Size([12, 24, 768])"
      ]
     },
     "execution_count": 4,
     "metadata": {},
     "output_type": "execute_result"
    }
   ],
   "source": [
    "import torch\n",
    "import math\n",
    "\n",
    "\n",
    "class multiHeadAttention:\n",
    "    def __init__(self, hidden_dim, head_num, group_num) -> None:\n",
    "        \n",
    "        self.hidden_dim = hidden_dim\n",
    "        self.head_num = head_num\n",
    "        self.head_dim = self.hidden_dim // self.head_num\n",
    "        self.group_num = group_num\n",
    "        self.key_value_head_num = self.head_num // group_num\n",
    "        \n",
    "        self.q = torch.nn.Linear(hidden_dim, self.head_num * self.head_dim)\n",
    "        self.k = torch.nn.Linear(hidden_dim, self.key_value_head_num * self.head_dim)\n",
    "        self.v = torch.nn.Linear(hidden_dim, self.key_value_head_num * self.head_dim)\n",
    "        self.o = torch.nn.Linear(hidden_dim, hidden_dim)\n",
    "\n",
    "        self.softmax = torch.nn.Softmax(dim=-1)\n",
    "        self.dropout = torch.nn.Dropout()\n",
    "    \n",
    "    def forward(self, x):\n",
    "        \n",
    "        bz, seq_len, hidden_dim = x.shape\n",
    "        \n",
    "        query = self.q(x).view(bz, seq_len, self.head_num, self.head_dim).transpose(1, 2)\n",
    "        key = self.k(x).view(bz, seq_len, self.key_value_head_num, self.head_dim).transpose(1, 2)\n",
    "        value = self.v(x).view(bz, seq_len, self.key_value_head_num, self.head_dim).transpose(1, 2)\n",
    "        # output = self.o(x).view(bz, seq_len, self.head_num, self.head_dim)\n",
    "        \n",
    "        key = torch.repeat_interleave(key, dim=1, repeats=self.group_num)\n",
    "        value = torch.repeat_interleave(value, dim=1, repeats=self.group_num)\n",
    "        print(value.shape)\n",
    "        \n",
    "        # print(query.shape)\n",
    "        score = torch.matmul(query, key.transpose(2,3)) / math.sqrt(self.head_dim)\n",
    "        \n",
    "        prob = self.softmax(score)\n",
    "        prob = self.dropout(prob)\n",
    "        \n",
    "        output = torch.matmul(prob, value).transpose(1,2).contiguous().view(bz, seq_len, hidden_dim)\n",
    "        \n",
    "        output = self.o(output)\n",
    "        return output\n",
    "\n",
    "x = torch.randn(12, 24, 768)\n",
    "attention = multiHeadAttention(768, 2, 2)\n",
    "\n",
    "output = attention.forward(x)\n",
    "\n",
    "output.shape\n",
    "\n",
    "\n",
    "\n"
   ]
  },
  {
   "cell_type": "code",
   "execution_count": null,
   "metadata": {},
   "outputs": [],
   "source": [
    "from transformers"
   ]
  }
 ],
 "metadata": {
  "kernelspec": {
   "display_name": "moe",
   "language": "python",
   "name": "python3"
  },
  "language_info": {
   "codemirror_mode": {
    "name": "ipython",
    "version": 3
   },
   "file_extension": ".py",
   "mimetype": "text/x-python",
   "name": "python",
   "nbconvert_exporter": "python",
   "pygments_lexer": "ipython3",
   "version": "undefined.undefined.undefined"
  }
 },
 "nbformat": 4,
 "nbformat_minor": 2
}
