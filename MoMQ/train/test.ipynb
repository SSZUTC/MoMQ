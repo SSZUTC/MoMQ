{
 "cells": [
  {
   "cell_type": "code",
   "execution_count": 1,
   "metadata": {},
   "outputs": [
    {
     "data": {
      "text/plain": [
       "[('Joe Sharp', 'Netherlands', 52),\n",
       " ('John Nizinik', 'France', 43),\n",
       " ('Rose White', 'France', 41),\n",
       " ('Timbaland', 'United States', 32),\n",
       " ('Justin Brown', 'France', 29),\n",
       " ('Tribal King', 'France', 25)]"
      ]
     },
     "execution_count": 1,
     "metadata": {},
     "output_type": "execute_result"
    }
   ],
   "source": [
    "import sys\n",
    "sys.path.append('../')\n",
    "from database.SQLite import SQLite\n",
    "\n",
    "db_name = 'concert_singer'\n",
    "db = SQLite(f'/home/linzhisheng/MOMQ/MoMQ/database/spider_database/database/{db_name}/{db_name}.sqlite')\n",
    "\n",
    "\n",
    "gt, err = db.fetch('SELECT name ,  country ,  age FROM singer ORDER BY age DESC')\n",
    "\n",
    "gt"
   ]
  }
 ],
 "metadata": {
  "kernelspec": {
   "display_name": "moe",
   "language": "python",
   "name": "python3"
  },
  "language_info": {
   "codemirror_mode": {
    "name": "ipython",
    "version": 3
   },
   "file_extension": ".py",
   "mimetype": "text/x-python",
   "name": "python",
   "nbconvert_exporter": "python",
   "pygments_lexer": "ipython3",
   "version": "3.10.14"
  }
 },
 "nbformat": 4,
 "nbformat_minor": 2
}
